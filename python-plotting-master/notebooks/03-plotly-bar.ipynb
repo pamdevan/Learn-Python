{
 "cells": [
  {
   "cell_type": "markdown",
   "metadata": {},
   "source": [
    "## Bar charts"
   ]
  },
  {
   "cell_type": "markdown",
   "metadata": {},
   "source": [
    "Lets set things up much like we did for our line plots of GDP per-capita data."
   ]
  },
  {
   "cell_type": "code",
   "execution_count": null,
   "metadata": {},
   "outputs": [],
   "source": [
    "import numpy as np\n",
    "import plotly.graph_objects as go\n",
    "import pandas as pd"
   ]
  },
  {
   "cell_type": "markdown",
   "metadata": {},
   "source": [
    "We may need to download some files ..."
   ]
  },
  {
   "cell_type": "code",
   "execution_count": null,
   "metadata": {},
   "outputs": [],
   "source": [
    "# Download data and solutions\n",
    "\n",
    "import urllib.request\n",
    "import os\n",
    "\n",
    "def download_data(path):\n",
    "    if os.path.exists(path):\n",
    "        return\n",
    "    if not os.path.exists('data'):\n",
    "        os.mkdir('data')\n",
    "    if not os.path.exists('solutions'):\n",
    "        os.mkdir('solutions')\n",
    "    url = 'https://raw.githubusercontent.com/ualberta-rcg/python-plotting/master/notebooks/' + path\n",
    "    output_file = path\n",
    "    urllib.request.urlretrieve(url, output_file)\n",
    "    print(\"Downloaded \" + path)\n",
    "    \n",
    "def show_solution(file):\n",
    "    fp = open('solutions/{}'.format(file), 'r')\n",
    "    print(fp.read())\n",
    "\n",
    "download_data('data/gapminder_gdp_europe.csv')\n",
    "download_data('solutions/plotly-bar-chart-north-america.py')"
   ]
  },
  {
   "cell_type": "markdown",
   "metadata": {},
   "source": [
    "Load the file into a data frame:"
   ]
  },
  {
   "cell_type": "code",
   "execution_count": null,
   "metadata": {},
   "outputs": [],
   "source": [
    "df = pd.read_csv('data/gapminder_gdp_europe.csv', index_col='country')\n",
    "years = df.columns.str.strip('gdpPercap_')\n",
    "df.columns = years.astype(int)"
   ]
  },
  {
   "cell_type": "markdown",
   "metadata": {},
   "source": [
    "And we plot a line graph much as we did last time ..."
   ]
  },
  {
   "cell_type": "code",
   "execution_count": null,
   "metadata": {},
   "outputs": [],
   "source": [
    "fig = go.Figure()\n",
    "\n",
    "trace0 = go.Scatter(\n",
    "    x = df.columns,\n",
    "    y = df.loc['Netherlands'],\n",
    "    name = 'Netherlands'\n",
    ")\n",
    "trace1 = go.Scatter(\n",
    "    x = df.columns,\n",
    "    y = df.loc['France'],\n",
    "    name = 'France'\n",
    ")\n",
    "\n",
    "fig.add_trace(trace0)\n",
    "fig.add_trace(trace1)\n",
    "fig.show()"
   ]
  },
  {
   "cell_type": "markdown",
   "metadata": {},
   "source": [
    "With only a little modification, we can create a bar chart instead."
   ]
  },
  {
   "cell_type": "code",
   "execution_count": null,
   "metadata": {},
   "outputs": [],
   "source": [
    "fig = go.Figure()\n",
    "\n",
    "trace0 = go.Bar(\n",
    "    x = df.columns,\n",
    "    y = df.loc['Netherlands'],\n",
    "    name = 'Netherlands'\n",
    ")\n",
    "trace1 = go.Bar(\n",
    "    x = df.columns,\n",
    "    y = df.loc['France'],\n",
    "    name = 'France'\n",
    ")\n",
    "\n",
    "fig.add_trace(trace0)\n",
    "fig.add_trace(trace1)\n",
    "fig.show()"
   ]
  },
  {
   "cell_type": "markdown",
   "metadata": {},
   "source": [
    "This is a 'grouped bar chart' ... it is the default layout, so the following does the same thing:"
   ]
  },
  {
   "cell_type": "code",
   "execution_count": null,
   "metadata": {},
   "outputs": [],
   "source": [
    "layout = go.Layout(\n",
    "    barmode='group'\n",
    ")\n",
    "\n",
    "fig = go.Figure(data=[trace0, trace1],\n",
    "                layout=layout)\n",
    "fig.show()"
   ]
  },
  {
   "cell_type": "markdown",
   "metadata": {},
   "source": [
    "But we could also stack them if we want a sense of the combined sum -- note that hovering gives us the individual valued.\n",
    "\n",
    "(Lets add a title too.)"
   ]
  },
  {
   "cell_type": "code",
   "execution_count": null,
   "metadata": {},
   "outputs": [],
   "source": [
    "layout = go.Layout(\n",
    "    title='GPD per-capita',\n",
    "    barmode='stack'\n",
    ")\n",
    "\n",
    "fig = go.Figure(data=[trace0, trace1],\n",
    "                layout=layout)\n",
    "fig.show()"
   ]
  },
  {
   "cell_type": "markdown",
   "metadata": {},
   "source": [
    "## Exercise"
   ]
  },
  {
   "cell_type": "markdown",
   "metadata": {},
   "source": [
    "Let's grab some North American GDP data (code to download below).\n",
    "\n",
    "Using what you learned here and in the scatter plot section, do the following:\n",
    "\n",
    "* Using this data set, make a bar chart of the per-capita GDP growth of Canada, the United States, and Mexico.\n",
    "* Label the chart \"Per-capita GDP Growth in North America\".\n",
    "* Make the Canada bar red, the US bar blue, and the Mexico bar green. **Hint!** Check the documentation on how to set the color of the bars: https://plot.ly/python/bar-charts/\n",
    "* Label the axes!"
   ]
  },
  {
   "cell_type": "code",
   "execution_count": null,
   "metadata": {},
   "outputs": [],
   "source": [
    "import urllib.request\n",
    "import os\n",
    "\n",
    "output_file = 'data/gapminder_gdp_americas.csv'\n",
    "if not os.path.exists(output_file):\n",
    "    url = 'https://raw.githubusercontent.com/ualberta-rcg/python-intro/gh-pages/data/gapminder_gdp_americas.csv'\n",
    "    urllib.request.urlretrieve(url, output_file)\n",
    "    print(\"Downloaded \" + output_file)"
   ]
  },
  {
   "cell_type": "code",
   "execution_count": null,
   "metadata": {},
   "outputs": [],
   "source": [
    "df = pd.read_csv('data/gapminder_gdp_americas.csv', index_col='country')\n",
    "# A little trick with a continent column we don't need\n",
    "df = df.drop(columns=['continent'])\n",
    "years = df.columns.str.strip('gdpPercap_')\n",
    "df.columns = years.astype(int)\n",
    "\n",
    "# Your code goes here ..."
   ]
  },
  {
   "cell_type": "code",
   "execution_count": null,
   "metadata": {},
   "outputs": [],
   "source": [
    "# PRINT SOLUTION (copy/paste output into a cell to run)\n",
    "show_solution('plotly-bar-chart-north-america.py')"
   ]
  },
  {
   "cell_type": "markdown",
   "metadata": {},
   "source": [
    "**[On to the next notebook (Plotly 3D Visualization and color scale)](04-plotly-3dviz.ipynb) ...**"
   ]
  }
 ],
 "metadata": {
  "kernelspec": {
   "display_name": "Python 3",
   "language": "python",
   "name": "python3"
  },
  "language_info": {
   "codemirror_mode": {
    "name": "ipython",
    "version": 3
   },
   "file_extension": ".py",
   "mimetype": "text/x-python",
   "name": "python",
   "nbconvert_exporter": "python",
   "pygments_lexer": "ipython3",
   "version": "3.8.6"
  }
 },
 "nbformat": 4,
 "nbformat_minor": 2
}
