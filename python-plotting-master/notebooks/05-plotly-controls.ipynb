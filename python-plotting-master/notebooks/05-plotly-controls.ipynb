{
 "cells": [
  {
   "cell_type": "markdown",
   "metadata": {},
   "source": [
    "# Plotly Controls\n",
    "\n",
    "Dealing with controls in Plotly is tricky. Most likely you will need to go through the documentation to find how to do the specific thing you are trying to do:\n",
    "\n",
    "https://plot.ly/python/#controls\n",
    "\n",
    "In this section, we will look at a simple example of adding a control to a graph to toggle what gets displayed."
   ]
  },
  {
   "cell_type": "markdown",
   "metadata": {},
   "source": [
    "The `updatemenu` method determines which Plotly function will be used to modify the chart. There are 4 possible methods:\n",
    "\n",
    "* `\"restyle\"`: modify data or data attributes\n",
    "* `\"relayout\"`: modify layout attributes\n",
    "* `\"update\"`: modify data and layout attributes\n",
    "* `\"animate\"`: start or pause an animation)"
   ]
  },
  {
   "cell_type": "markdown",
   "metadata": {},
   "source": [
    "We import the plotly modules as always, and set up the notebook."
   ]
  },
  {
   "cell_type": "code",
   "execution_count": null,
   "metadata": {},
   "outputs": [],
   "source": [
    "import plotly.graph_objects as go"
   ]
  },
  {
   "cell_type": "markdown",
   "metadata": {},
   "source": [
    "May need to download data ..."
   ]
  },
  {
   "cell_type": "code",
   "execution_count": null,
   "metadata": {},
   "outputs": [],
   "source": [
    "# Download data and solutions\n",
    "\n",
    "import urllib.request\n",
    "import os\n",
    "\n",
    "def download_data(path):\n",
    "    if os.path.exists(path):\n",
    "        return\n",
    "    if not os.path.exists('data'):\n",
    "        os.mkdir('data')\n",
    "    if not os.path.exists('solutions'):\n",
    "        os.mkdir('solutions')\n",
    "    url = 'https://raw.githubusercontent.com/ualberta-rcg/python-plotting/master/notebooks/' + path\n",
    "    output_file = path\n",
    "    urllib.request.urlretrieve(url, output_file)\n",
    "    print(\"Downloaded \" + path)\n",
    "\n",
    "download_data('data/gapminder_gdp_europe.csv')"
   ]
  },
  {
   "cell_type": "markdown",
   "metadata": {},
   "source": [
    "We load in our dataset as before, modifying the column names to be numerical years."
   ]
  },
  {
   "cell_type": "code",
   "execution_count": null,
   "metadata": {},
   "outputs": [],
   "source": [
    "import pandas as pd\n",
    "\n",
    "df = pd.read_csv('data/gapminder_gdp_europe.csv', index_col='country')\n",
    "years = df.columns.str.strip('gdpPercap_')\n",
    "df.columns = years.astype(int)"
   ]
  },
  {
   "cell_type": "markdown",
   "metadata": {},
   "source": [
    "And we set up an initial graph, much like we did earlier in the course."
   ]
  },
  {
   "cell_type": "code",
   "execution_count": null,
   "metadata": {},
   "outputs": [],
   "source": [
    "trace0 = go.Scatter(\n",
    "    x = df.columns,\n",
    "    y = df.loc['Netherlands'],\n",
    "    mode = 'lines',\n",
    "    name='Netherlands'\n",
    ")\n",
    "trace1 = go.Scatter(\n",
    "    x = df.columns,\n",
    "    y = df.loc['France'],\n",
    "    mode = 'lines+markers',\n",
    "    name='France'\n",
    ")\n",
    "\n",
    "fig = go.Figure(data=[trace0, trace1])\n",
    "fig.show()"
   ]
  },
  {
   "cell_type": "markdown",
   "metadata": {},
   "source": [
    "We can now set up some buttons to toggle the visibility of the data we see on the graph. Notice that `active` is equal to 2, the index of the last button in the array."
   ]
  },
  {
   "cell_type": "code",
   "execution_count": null,
   "metadata": {},
   "outputs": [],
   "source": [
    "updatemenus = [\n",
    "    dict(type=\"buttons\",\n",
    "         active=2,\n",
    "         buttons=[\n",
    "            dict(label='Netherlands',\n",
    "                 args=[{'visible': [True, False]}],\n",
    "                 method='restyle'\n",
    "            ),\n",
    "            dict(label='France',\n",
    "                 args=[{'visible': [False, True]}],\n",
    "                 method='restyle'\n",
    "            ),\n",
    "            dict(\n",
    "                label='Both',\n",
    "                args=[{'visible': [True, True]}],\n",
    "                method='restyle'\n",
    "            )\n",
    "        ]\n",
    "    )\n",
    "]\n",
    "\n",
    "# Add the updatemenus data structure as an attribute of the layout\n",
    "layout = dict(title='GDP Per-capita', updatemenus=updatemenus)\n",
    "\n",
    "# Plot as usual\n",
    "fig = go.Figure(data=[trace0, trace1], layout=layout)\n",
    "fig.show()"
   ]
  },
  {
   "cell_type": "markdown",
   "metadata": {},
   "source": [
    "## Exercise\n",
    "\n",
    "Notice that the graphs are always blue when they are alone. Can you modify the traces to ensure that the France graph is always blue and the Netherlands graph is always orange?"
   ]
  },
  {
   "cell_type": "markdown",
   "metadata": {},
   "source": [
    "## Exercise\n",
    "\n",
    "The pandas dataframe has GDP per-capita data for many countries. Can you set up a similar set of buttons to set up one button per country? Also give it a final button called 'All' (to show all countries).\n",
    "\n",
    "Hint: start with an empty array of traces, and set up the updatemenus data structure with an empty `buttons` array. The country names are stored in `df.index`. Set up a loop with `for country in df.index` to append to the traces and the buttons using data from `df.loc[country]` (the row of data for the country)."
   ]
  },
  {
   "cell_type": "markdown",
   "metadata": {},
   "source": [
    "**[On to the bonus notebook (Edmonton Trees)](99-bonus-edmonton-trees.ipynb) ...**"
   ]
  }
 ],
 "metadata": {
  "kernelspec": {
   "display_name": "Python 3",
   "language": "python",
   "name": "python3"
  },
  "language_info": {
   "codemirror_mode": {
    "name": "ipython",
    "version": 3
   },
   "file_extension": ".py",
   "mimetype": "text/x-python",
   "name": "python",
   "nbconvert_exporter": "python",
   "pygments_lexer": "ipython3",
   "version": "3.8.6"
  }
 },
 "nbformat": 4,
 "nbformat_minor": 2
}
